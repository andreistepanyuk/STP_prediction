{
  "nbformat": 4,
  "nbformat_minor": 0,
  "metadata": {
    "colab": {
      "name": "Regression_genes_to_STP.ipynb",
      "provenance": [],
      "collapsed_sections": [],
      "authorship_tag": "ABX9TyOfEQyK5IhEbk0JcSNivm6u",
      "include_colab_link": true
    },
    "kernelspec": {
      "name": "python3",
      "display_name": "Python 3"
    },
    "language_info": {
      "name": "python"
    },
    "accelerator": "GPU"
  },
  "cells": [
    {
      "cell_type": "markdown",
      "metadata": {
        "id": "view-in-github",
        "colab_type": "text"
      },
      "source": [
        "<a href=\"https://colab.research.google.com/github/andreistepanyuk/STP_prediction/blob/main/Regression_genes_to_STP.ipynb\" target=\"_parent\"><img src=\"https://colab.research.google.com/assets/colab-badge.svg\" alt=\"Open In Colab\"/></a>"
      ]
    },
    {
      "cell_type": "markdown",
      "metadata": {
        "id": "MFGxGBrzxjVs"
      },
      "source": [
        "**Regression genes->STP model: train and test**\n",
        "\n",
        "Notebook for comparison of different models of genes->stp dependences with respect to generalization (including hierarhical models taking into account structure of transcriptomic space). test MDL based regularization approaches"
      ]
    },
    {
      "cell_type": "markdown",
      "metadata": {
        "id": "yMUGWSgjikZU"
      },
      "source": [
        "**Test GPU availability**"
      ]
    },
    {
      "cell_type": "code",
      "metadata": {
        "colab": {
          "base_uri": "https://localhost:8080/"
        },
        "id": "c4m-hxi8im1k",
        "outputId": "60178729-af67-40fb-b208-b120cd06f3d2"
      },
      "source": [
        "import torch\n",
        "print('Number of gpus available: ',torch.cuda.device_count())\n",
        "print('Name of gpu[0]: ',torch.cuda.get_device_name(0))"
      ],
      "execution_count": 1,
      "outputs": [
        {
          "output_type": "stream",
          "name": "stdout",
          "text": [
            "Number of gpus available:  1\n",
            "Name of gpu[0]:  Tesla K80\n"
          ]
        }
      ]
    },
    {
      "cell_type": "markdown",
      "metadata": {
        "id": "0FQGXUA6icKy"
      },
      "source": [
        "**Mount Google Drive**"
      ]
    },
    {
      "cell_type": "code",
      "metadata": {
        "colab": {
          "base_uri": "https://localhost:8080/"
        },
        "id": "EIIsn-wkag-x",
        "outputId": "76ae1297-882e-4c34-a448-cc685d4dc0b1"
      },
      "source": [
        "# Mount Google Drive\n",
        "\n",
        "from google.colab import drive\n",
        "\n",
        "drive.mount('/content/drive')\n",
        "\n",
        "#! pip3 install numpy==1.15.4 \n",
        "\n",
        "import sys\n",
        "sys.path.append('/content/drive/My Drive/Colab Notebooks/')"
      ],
      "execution_count": 2,
      "outputs": [
        {
          "output_type": "stream",
          "name": "stdout",
          "text": [
            "Drive already mounted at /content/drive; to attempt to forcibly remount, call drive.mount(\"/content/drive\", force_remount=True).\n"
          ]
        }
      ]
    },
    {
      "cell_type": "markdown",
      "metadata": {
        "id": "JYJpsIqL48kd"
      },
      "source": [
        "Load packages"
      ]
    },
    {
      "cell_type": "code",
      "metadata": {
        "colab": {
          "base_uri": "https://localhost:8080/"
        },
        "id": "DnkjiF5hYtCp",
        "outputId": "a62c8e3d-cb43-49d8-949c-8d269d984f5d"
      },
      "source": [
        "!pip3 install pandas pymc3 ipython  jupyter jinja2  scikit-learn  # theano"
      ],
      "execution_count": 3,
      "outputs": [
        {
          "output_type": "stream",
          "name": "stdout",
          "text": [
            "Requirement already satisfied: pandas in /usr/local/lib/python3.7/dist-packages (1.1.5)\n",
            "Requirement already satisfied: pymc3 in /usr/local/lib/python3.7/dist-packages (3.11.4)\n",
            "Requirement already satisfied: ipython in /usr/local/lib/python3.7/dist-packages (5.5.0)\n",
            "Requirement already satisfied: jupyter in /usr/local/lib/python3.7/dist-packages (1.0.0)\n",
            "Requirement already satisfied: jinja2 in /usr/local/lib/python3.7/dist-packages (2.11.3)\n",
            "Requirement already satisfied: scikit-learn in /usr/local/lib/python3.7/dist-packages (0.22.2.post1)\n",
            "Requirement already satisfied: python-dateutil>=2.7.3 in /usr/local/lib/python3.7/dist-packages (from pandas) (2.8.2)\n",
            "Requirement already satisfied: numpy>=1.15.4 in /usr/local/lib/python3.7/dist-packages (from pandas) (1.19.5)\n",
            "Requirement already satisfied: pytz>=2017.2 in /usr/local/lib/python3.7/dist-packages (from pandas) (2018.9)\n",
            "Requirement already satisfied: six>=1.5 in /usr/local/lib/python3.7/dist-packages (from python-dateutil>=2.7.3->pandas) (1.15.0)\n",
            "Requirement already satisfied: cachetools>=4.2.1 in /usr/local/lib/python3.7/dist-packages (from pymc3) (4.2.4)\n",
            "Requirement already satisfied: theano-pymc==1.1.2 in /usr/local/lib/python3.7/dist-packages (from pymc3) (1.1.2)\n",
            "Requirement already satisfied: scipy>=1.2.0 in /usr/local/lib/python3.7/dist-packages (from pymc3) (1.4.1)\n",
            "Requirement already satisfied: fastprogress>=0.2.0 in /usr/local/lib/python3.7/dist-packages (from pymc3) (1.0.0)\n",
            "Requirement already satisfied: arviz>=0.11.0 in /usr/local/lib/python3.7/dist-packages (from pymc3) (0.11.4)\n",
            "Requirement already satisfied: semver>=2.13.0 in /usr/local/lib/python3.7/dist-packages (from pymc3) (2.13.0)\n",
            "Requirement already satisfied: patsy>=0.5.1 in /usr/local/lib/python3.7/dist-packages (from pymc3) (0.5.2)\n",
            "Requirement already satisfied: typing-extensions>=3.7.4 in /usr/local/lib/python3.7/dist-packages (from pymc3) (3.10.0.2)\n",
            "Requirement already satisfied: dill in /usr/local/lib/python3.7/dist-packages (from pymc3) (0.3.4)\n",
            "Requirement already satisfied: filelock in /usr/local/lib/python3.7/dist-packages (from theano-pymc==1.1.2->pymc3) (3.3.2)\n",
            "Requirement already satisfied: setuptools>=38.4 in /usr/local/lib/python3.7/dist-packages (from arviz>=0.11.0->pymc3) (57.4.0)\n",
            "Requirement already satisfied: netcdf4 in /usr/local/lib/python3.7/dist-packages (from arviz>=0.11.0->pymc3) (1.5.8)\n",
            "Requirement already satisfied: xarray>=0.16.1 in /usr/local/lib/python3.7/dist-packages (from arviz>=0.11.0->pymc3) (0.18.2)\n",
            "Requirement already satisfied: packaging in /usr/local/lib/python3.7/dist-packages (from arviz>=0.11.0->pymc3) (21.2)\n",
            "Requirement already satisfied: matplotlib>=3.0 in /usr/local/lib/python3.7/dist-packages (from arviz>=0.11.0->pymc3) (3.2.2)\n",
            "Requirement already satisfied: pyparsing!=2.0.4,!=2.1.2,!=2.1.6,>=2.0.1 in /usr/local/lib/python3.7/dist-packages (from matplotlib>=3.0->arviz>=0.11.0->pymc3) (2.4.7)\n",
            "Requirement already satisfied: cycler>=0.10 in /usr/local/lib/python3.7/dist-packages (from matplotlib>=3.0->arviz>=0.11.0->pymc3) (0.11.0)\n",
            "Requirement already satisfied: kiwisolver>=1.0.1 in /usr/local/lib/python3.7/dist-packages (from matplotlib>=3.0->arviz>=0.11.0->pymc3) (1.3.2)\n",
            "Requirement already satisfied: simplegeneric>0.8 in /usr/local/lib/python3.7/dist-packages (from ipython) (0.8.1)\n",
            "Requirement already satisfied: prompt-toolkit<2.0.0,>=1.0.4 in /usr/local/lib/python3.7/dist-packages (from ipython) (1.0.18)\n",
            "Requirement already satisfied: decorator in /usr/local/lib/python3.7/dist-packages (from ipython) (4.4.2)\n",
            "Requirement already satisfied: pygments in /usr/local/lib/python3.7/dist-packages (from ipython) (2.6.1)\n",
            "Requirement already satisfied: pexpect in /usr/local/lib/python3.7/dist-packages (from ipython) (4.8.0)\n",
            "Requirement already satisfied: pickleshare in /usr/local/lib/python3.7/dist-packages (from ipython) (0.7.5)\n",
            "Requirement already satisfied: traitlets>=4.2 in /usr/local/lib/python3.7/dist-packages (from ipython) (5.1.1)\n",
            "Requirement already satisfied: wcwidth in /usr/local/lib/python3.7/dist-packages (from prompt-toolkit<2.0.0,>=1.0.4->ipython) (0.2.5)\n",
            "Requirement already satisfied: ipywidgets in /usr/local/lib/python3.7/dist-packages (from jupyter) (7.6.5)\n",
            "Requirement already satisfied: jupyter-console in /usr/local/lib/python3.7/dist-packages (from jupyter) (5.2.0)\n",
            "Requirement already satisfied: qtconsole in /usr/local/lib/python3.7/dist-packages (from jupyter) (5.1.1)\n",
            "Requirement already satisfied: notebook in /usr/local/lib/python3.7/dist-packages (from jupyter) (5.3.1)\n",
            "Requirement already satisfied: nbconvert in /usr/local/lib/python3.7/dist-packages (from jupyter) (5.6.1)\n",
            "Requirement already satisfied: ipykernel in /usr/local/lib/python3.7/dist-packages (from jupyter) (4.10.1)\n",
            "Requirement already satisfied: MarkupSafe>=0.23 in /usr/local/lib/python3.7/dist-packages (from jinja2) (2.0.1)\n",
            "Requirement already satisfied: joblib>=0.11 in /usr/local/lib/python3.7/dist-packages (from scikit-learn) (1.1.0)\n",
            "Requirement already satisfied: jupyter-client in /usr/local/lib/python3.7/dist-packages (from ipykernel->jupyter) (5.3.5)\n",
            "Requirement already satisfied: tornado>=4.0 in /usr/local/lib/python3.7/dist-packages (from ipykernel->jupyter) (5.1.1)\n",
            "Requirement already satisfied: nbformat>=4.2.0 in /usr/local/lib/python3.7/dist-packages (from ipywidgets->jupyter) (5.1.3)\n",
            "Requirement already satisfied: jupyterlab-widgets>=1.0.0 in /usr/local/lib/python3.7/dist-packages (from ipywidgets->jupyter) (1.0.2)\n",
            "Requirement already satisfied: ipython-genutils~=0.2.0 in /usr/local/lib/python3.7/dist-packages (from ipywidgets->jupyter) (0.2.0)\n",
            "Requirement already satisfied: widgetsnbextension~=3.5.0 in /usr/local/lib/python3.7/dist-packages (from ipywidgets->jupyter) (3.5.2)\n",
            "Requirement already satisfied: jsonschema!=2.5.0,>=2.4 in /usr/local/lib/python3.7/dist-packages (from nbformat>=4.2.0->ipywidgets->jupyter) (2.6.0)\n",
            "Requirement already satisfied: jupyter-core in /usr/local/lib/python3.7/dist-packages (from nbformat>=4.2.0->ipywidgets->jupyter) (4.9.1)\n",
            "Requirement already satisfied: terminado>=0.8.1 in /usr/local/lib/python3.7/dist-packages (from notebook->jupyter) (0.12.1)\n",
            "Requirement already satisfied: Send2Trash in /usr/local/lib/python3.7/dist-packages (from notebook->jupyter) (1.8.0)\n",
            "Requirement already satisfied: pyzmq>=13 in /usr/local/lib/python3.7/dist-packages (from jupyter-client->ipykernel->jupyter) (22.3.0)\n",
            "Requirement already satisfied: ptyprocess in /usr/local/lib/python3.7/dist-packages (from terminado>=0.8.1->notebook->jupyter) (0.7.0)\n",
            "Requirement already satisfied: mistune<2,>=0.8.1 in /usr/local/lib/python3.7/dist-packages (from nbconvert->jupyter) (0.8.4)\n",
            "Requirement already satisfied: testpath in /usr/local/lib/python3.7/dist-packages (from nbconvert->jupyter) (0.5.0)\n",
            "Requirement already satisfied: bleach in /usr/local/lib/python3.7/dist-packages (from nbconvert->jupyter) (4.1.0)\n",
            "Requirement already satisfied: defusedxml in /usr/local/lib/python3.7/dist-packages (from nbconvert->jupyter) (0.7.1)\n",
            "Requirement already satisfied: pandocfilters>=1.4.1 in /usr/local/lib/python3.7/dist-packages (from nbconvert->jupyter) (1.5.0)\n",
            "Requirement already satisfied: entrypoints>=0.2.2 in /usr/local/lib/python3.7/dist-packages (from nbconvert->jupyter) (0.3)\n",
            "Requirement already satisfied: webencodings in /usr/local/lib/python3.7/dist-packages (from bleach->nbconvert->jupyter) (0.5.1)\n",
            "Requirement already satisfied: cftime in /usr/local/lib/python3.7/dist-packages (from netcdf4->arviz>=0.11.0->pymc3) (1.5.1.1)\n",
            "Requirement already satisfied: qtpy in /usr/local/lib/python3.7/dist-packages (from qtconsole->jupyter) (1.11.2)\n"
          ]
        }
      ]
    },
    {
      "cell_type": "markdown",
      "metadata": {
        "id": "Bcr91O905HAV"
      },
      "source": [
        "Upgrade tables package"
      ]
    },
    {
      "cell_type": "code",
      "metadata": {
        "colab": {
          "base_uri": "https://localhost:8080/"
        },
        "id": "17qfhjN05OCb",
        "outputId": "ad2d7863-9da0-4cac-fe07-59d453f2069c"
      },
      "source": [
        "! pip3 install --upgrade tables"
      ],
      "execution_count": 4,
      "outputs": [
        {
          "output_type": "stream",
          "name": "stdout",
          "text": [
            "Requirement already satisfied: tables in /usr/local/lib/python3.7/dist-packages (3.6.1)\n",
            "Requirement already satisfied: numexpr>=2.6.2 in /usr/local/lib/python3.7/dist-packages (from tables) (2.7.3)\n",
            "Requirement already satisfied: numpy>=1.9.3 in /usr/local/lib/python3.7/dist-packages (from tables) (1.19.5)\n"
          ]
        }
      ]
    },
    {
      "cell_type": "markdown",
      "metadata": {
        "id": "rEusQ2eM5bGi"
      },
      "source": [
        "Install gpytorch "
      ]
    },
    {
      "cell_type": "code",
      "metadata": {
        "colab": {
          "base_uri": "https://localhost:8080/"
        },
        "id": "8jXx60pmU3uO",
        "outputId": "8857ec8a-3619-451e-80f0-8f76cb3a3221"
      },
      "source": [
        "!pip3 install gpytorch"
      ],
      "execution_count": 5,
      "outputs": [
        {
          "output_type": "stream",
          "name": "stdout",
          "text": [
            "Requirement already satisfied: gpytorch in /usr/local/lib/python3.7/dist-packages (1.5.1)\n",
            "Requirement already satisfied: scikit-learn in /usr/local/lib/python3.7/dist-packages (from gpytorch) (0.22.2.post1)\n",
            "Requirement already satisfied: scipy in /usr/local/lib/python3.7/dist-packages (from gpytorch) (1.4.1)\n",
            "Requirement already satisfied: torch>=1.8.1 in /usr/local/lib/python3.7/dist-packages (from gpytorch) (1.9.0+cu111)\n",
            "Requirement already satisfied: typing-extensions in /usr/local/lib/python3.7/dist-packages (from torch>=1.8.1->gpytorch) (3.10.0.2)\n",
            "Requirement already satisfied: numpy>=1.11.0 in /usr/local/lib/python3.7/dist-packages (from scikit-learn->gpytorch) (1.19.5)\n",
            "Requirement already satisfied: joblib>=0.11 in /usr/local/lib/python3.7/dist-packages (from scikit-learn->gpytorch) (1.1.0)\n"
          ]
        }
      ]
    },
    {
      "cell_type": "code",
      "metadata": {
        "id": "38Gdd_sqyKZz"
      },
      "source": [
        "import os\n",
        "import numpy as np\n",
        "import pandas as pd\n",
        "import matplotlib.pyplot as plt\n"
      ],
      "execution_count": 6,
      "outputs": []
    },
    {
      "cell_type": "code",
      "metadata": {
        "colab": {
          "base_uri": "https://localhost:8080/"
        },
        "id": "z_z14rdwaW8A",
        "outputId": "4722df3c-ef7f-46bf-838d-c1e97e723a2a"
      },
      "source": [
        "import sklearn as sk\n",
        "from sklearn import linear_model\n",
        "# Test ridge regression\n",
        "reg = sk.linear_model.Ridge(alpha=.5)\n",
        "reg.fit([[0, 0], [0, 0], [1, 1]], [0, .1, 1])"
      ],
      "execution_count": 7,
      "outputs": [
        {
          "output_type": "execute_result",
          "data": {
            "text/plain": [
              "Ridge(alpha=0.5, copy_X=True, fit_intercept=True, max_iter=None,\n",
              "      normalize=False, random_state=None, solver='auto', tol=0.001)"
            ]
          },
          "metadata": {},
          "execution_count": 7
        }
      ]
    },
    {
      "cell_type": "markdown",
      "metadata": {
        "id": "6YtwBsqQY0p5"
      },
      "source": [
        "**Import module for genes->stp modeling**"
      ]
    },
    {
      "cell_type": "code",
      "metadata": {
        "colab": {
          "base_uri": "https://localhost:8080/",
          "height": 130
        },
        "id": "fPGes5bYY1dZ",
        "outputId": "e7922106-6a28-46fd-fa08-2ae7c1fbd522"
      },
      "source": [
        "#'/content/drive/My Drive/Colab Notebooks/'\n",
        "import genes2stp as g2p"
      ],
      "execution_count": 8,
      "outputs": [
        {
          "output_type": "error",
          "ename": "IndentationError",
          "evalue": "ignored",
          "traceback": [
            "\u001b[0;36m  File \u001b[0;32m\"/content/drive/My Drive/Colab Notebooks/genes2stp.py\"\u001b[0;36m, line \u001b[0;32m557\u001b[0m\n\u001b[0;31m    do_uMDL = par['do_uMDL'] #True\u001b[0m\n\u001b[0m          ^\u001b[0m\n\u001b[0;31mIndentationError\u001b[0m\u001b[0;31m:\u001b[0m expected an indented block\n"
          ]
        }
      ]
    },
    {
      "cell_type": "markdown",
      "metadata": {
        "id": "1xuJELs7SquD"
      },
      "source": [
        "**Select GPU device**"
      ]
    },
    {
      "cell_type": "code",
      "metadata": {
        "colab": {
          "base_uri": "https://localhost:8080/"
        },
        "id": "v3iHH4V_p1cQ",
        "outputId": "d92cb5a6-97c5-4b1e-add5-dd55797dde07"
      },
      "source": [
        "print(torch.cuda.device_count())\n",
        "print(torch.cuda.get_device_name(0))\n",
        "cuda0 = torch.device('cuda:0')"
      ],
      "execution_count": null,
      "outputs": [
        {
          "name": "stdout",
          "output_type": "stream",
          "text": [
            "1\n",
            "Tesla P100-PCIE-16GB\n"
          ]
        }
      ]
    },
    {
      "cell_type": "markdown",
      "metadata": {
        "id": "EmySgUxtTH2w"
      },
      "source": [
        "**Load gene set filter**"
      ]
    },
    {
      "cell_type": "code",
      "metadata": {
        "colab": {
          "base_uri": "https://localhost:8080/"
        },
        "id": "JHHZFCFZjuea",
        "outputId": "e4e4ccd7-e4b2-48bf-9865-9bddf1365ccc"
      },
      "source": [
        "import os\n",
        "print(os.getcwd())\n",
        "\n",
        "d5 = '/content/drive/My Drive/Colab Notebooks/'\n",
        "df_ge_names_filter = pd.read_excel(d5+'gene_set_names.xlsx',header=None).loc[1:,1]\n",
        "df_ge_names_filter"
      ],
      "execution_count": null,
      "outputs": [
        {
          "name": "stdout",
          "output_type": "stream",
          "text": [
            "/content\n"
          ]
        },
        {
          "data": {
            "text/plain": [
              "1        pre__Slit1\n",
              "2        pre__Slit2\n",
              "3        pre__Slit3\n",
              "4        pre__Robo1\n",
              "5        pre__Robo2\n",
              "           ...     \n",
              "1781    post__Galr1\n",
              "1782    post__Galr2\n",
              "1783    post__Galr3\n",
              "1784    post__Elfn1\n",
              "1785    post__Elfn2\n",
              "Name: 1, Length: 1785, dtype: object"
            ]
          },
          "execution_count": 61,
          "metadata": {
            "tags": []
          },
          "output_type": "execute_result"
        }
      ]
    },
    {
      "cell_type": "markdown",
      "metadata": {
        "id": "FhurFmwUTsrn"
      },
      "source": [
        "**Train and test regression model**"
      ]
    },
    {
      "cell_type": "code",
      "metadata": {
        "id": "p9Z1UXO0T2e_"
      },
      "source": [
        "gs_name = '_gs5188' #'_gs1512' #'_gs15656' #'_gs1512' #'_gs15656' #'_gs1512' #'_gs15656' #'_gs1512'   #'_gs5188' #'_gs1512'\n",
        "d4 = '/content/drive/My Drive/Colab Notebooks/scVI/'\n",
        "\n",
        "fname_columns = d4+'stp_to_ge_all_columns'+gs_name+'.hdf'\n",
        "fname = d4+'stp_to_ge_all_data'+gs_name+'.hdf'\n",
        "\n",
        "X_train0, ge_columns_train, annot_columns_train, stp_columns_train, classes_columns_train =\n",
        "g2p.load_genes_and_stp(fname, fname_columns=fname_columns)\n",
        "\n",
        "print('X_train0 shape',X_train0.shape)\n",
        "print(X_train0.columns[200:300])\n",
        "print(X_train0.columns[300:])\n",
        "\n",
        "\n",
        "print('gs_name - '+gs_name)\n",
        "\n",
        "# add scVI latent factors names to ge_columns_train\n",
        "if (gs_name=='_gs5188')|(gs_name=='_gs1512')|(gs_name=='_gs15656'):\n",
        "    nlf = 20   # 20 were in scvi model\n",
        "elif (gs_name=='_gs219'):\n",
        "    nlf = 10   # 10 were in scvi model\n",
        "lf_names = np.arange(nlf).astype(str)\n",
        "lf_names1 =  ['pre__'+s for s in lf_names.tolist()]\n",
        "lf_names2 =  ['post__'+s for s in lf_names.tolist()]\n",
        "\n",
        "lf_scvi_names = lf_names1 + lf_names2\n",
        "\n",
        "ge_columns_train2 = list(set(ge_columns_train).difference(set(lf_scvi_names)))\n",
        "lf_scvi_names\n",
        "\n",
        "\n",
        "#Add several classification columns\n",
        "#### modify data: DO class_pre, class_post, subclass_pre, subclass_post columns\n",
        "subcl_names_pre = ['ex_ctx__pre', 'ex_ec__pre','ex_hipp__pre','sst__pre','pvalb__pre','cge__pre']\n",
        "subcl_names_post = ['ex_ctx__post', 'ex_ec__post','ex_hipp__post','sst__post','pvalb__post','cge__post']\n",
        "subcl_names_pre_b = ['ex_ctx__pre', 'ex_ec__pre','ex_hipp__pre','inh__pre']\n",
        "subcl_names_pre_d = ['ex_ctx__pre', 'ex_ec__pre','ex_hipp__pre','sst__pre','pvalb__pre','vip__pre','cck__pre','lamp5__pre']\n",
        "subcl_names_post_c = ['ex__post','sst__post','pvalb__post','cge__post']\n",
        "subcl_names_pre_c = ['ex__pre','sst__pre','pvalb__pre','cge__pre']\n",
        "subcl_names_post_b = ['ex_ctx__post', 'ex_ec__post','ex_hipp__post','inh__post']\n",
        "new_syntype_columns = pd.DataFrame([['class_pre',['ex__pre', 'inh__pre'], ['Glutamatergic', 'GABAergic']],\n",
        "                                    ['subclass_pre',subcl_names_pre, subcl_names_pre],\n",
        "                                    ['subclass_pre_b',subcl_names_pre_b, subcl_names_pre_b],\n",
        "                                    ['subclass_pre_d',subcl_names_pre_d, subcl_names_pre_d],\n",
        "                                    ['subclass_post_c',subcl_names_post_c, subcl_names_post_c],\n",
        "                                    ['subclass_pre_c',subcl_names_pre_c, subcl_names_pre_c],\n",
        "                                    ['subclass_post_b',subcl_names_post_b, subcl_names_post_b],\n",
        "                                    ['class_post',['ex__post', 'inh__post'], ['Glutamatergic', 'GABAergic']],\n",
        "                                    ['subclass_post',subcl_names_post, subcl_names_post]], columns = ['group','columns_X0','new_names'])\n",
        "\n",
        "X_train0, classes_columns_train = g2p.add_class_hierarchy(new_syntype_columns,X_train0,classes_columns_train)"
      ],
      "execution_count": null,
      "outputs": []
    },
    {
      "cell_type": "markdown",
      "metadata": {
        "id": "ez8SPtFVac8Z"
      },
      "source": [
        "**preprocess genes_stp data**"
      ]
    },
    {
      "cell_type": "code",
      "metadata": {
        "id": "CZvCT14SadXj"
      },
      "source": [
        "X2, y2, X2_cl, X2_an, sts, preprocessing_, cla_n2 =\n",
        "g2p.data_preprocessing(X_train0, N_bootstraps=100, Dn=1, stp_n=['A5_20Hz'], classes_columns_train=classes_columns_train, \n",
        "                       df_ge_names_filter=df_ge_names_filter,lf_scvi_names=lf_scvi_names,\n",
        "                       remove_st=[4,90],d_log=0.3):"
      ],
      "execution_count": null,
      "outputs": []
    },
    {
      "cell_type": "markdown",
      "metadata": {
        "id": "nZ7GSZHkc2ve"
      },
      "source": [
        "**train and test genes->STP model**"
      ]
    },
    {
      "cell_type": "code",
      "metadata": {
        "id": "arLRBvEXc3Fi"
      },
      "source": [
        "# make models structure\n",
        "parameters = {'sig' : 0.4, 'lyambda0' : 50, 'alpha_sigma_factor':0.01, 'beta_sigma_factor':2.0,\n",
        "              'alpha_lambda_factor':0.0000001, 'beta_lambda_factor':1.0,'nit':5, 'it_stop':0.0000001, 'n_jumps':0, 'dn_jumps':0}\n",
        "H_Models = pd.DataFrame([       ['HLM',\n",
        "                                    [['class_pre', 'class_post'],\n",
        "                                     ['subclass_pre_b', 'subclass_post_c'],\n",
        "                                     ['subclass_pre', 'subclass_post']]],\n",
        "                                    parameters],\n",
        "                                    columns = ['name','structure','parameters']) \n",
        "H_Models"
      ],
      "execution_count": null,
      "outputs": []
    },
    {
      "cell_type": "code",
      "metadata": {
        "id": "_8qq5fqGdg3A"
      },
      "source": [
        "Y_pred, Y_pred0, Samples_test,  R3 =\n",
        "g2p.train_and_test_regression_models(X2, y2, X2_cl, X2_an, H_Models, preprocessing_, ncv = 10, sts=sts, cla_n2=cla_n2, cuda0=cuda0)"
      ],
      "execution_count": null,
      "outputs": []
    },
    {
      "cell_type": "code",
      "metadata": {
        "id": "FyApTpIlel4G"
      },
      "source": [
        "X2, y2, X2_cl, X2_an, sts, preprocessing_, cla_n2 =\n",
        "g2p.data_preprocessing(X_train0, N_bootstraps=100, Dn=1, stp_n=['A5_20Hz'], classes_columns_train=classes_columns_train, \n",
        "                       df_ge_names_filter=df_ge_names_filter,lf_scvi_names=lf_scvi_names,\n",
        "                       remove_st=[4,90],d_log=0.3)"
      ],
      "execution_count": null,
      "outputs": []
    },
    {
      "cell_type": "code",
      "metadata": {
        "id": "B7AX8K-6fOje"
      },
      "source": [
        "H_Models = pd.DataFrame([       ['Msb1sc2',['subclass_pre_b', 'subclass_post_c'],{}],\n",
        "                                    ],\n",
        "                                    columns = ['name','structure','parameters'])\n",
        "H_Models"
      ],
      "execution_count": null,
      "outputs": []
    },
    {
      "cell_type": "code",
      "metadata": {
        "id": "8cipTPpnemG7"
      },
      "source": [
        "Y_pred, Y_pred0, Samples_test,  R3 =\n",
        "g2p.train_and_test_regression_models_(X2, y2, X2_cl, X2_an, H_Models, preprocessing_, ncv = 10,do_log_y = 0, sts=sts, cla_n2=cla_n2, cuda0=cuda0)"
      ],
      "execution_count": null,
      "outputs": []
    }
  ]
}